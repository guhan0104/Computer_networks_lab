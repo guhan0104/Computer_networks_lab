{
  "nbformat": 4,
  "nbformat_minor": 0,
  "metadata": {
    "colab": {
      "provenance": []
    },
    "kernelspec": {
      "name": "python3",
      "display_name": "Python 3"
    },
    "language_info": {
      "name": "python"
    }
  },
  "cells": [
    {
      "cell_type": "code",
      "execution_count": 1,
      "metadata": {
        "colab": {
          "base_uri": "https://localhost:8080/"
        },
        "id": "wOtg1iTo1DlB",
        "outputId": "61d075d1-3247-4fc8-86fd-262bd01f1780"
      },
      "outputs": [
        {
          "output_type": "stream",
          "name": "stdout",
          "text": [
            "ARP Request: 00:14:22:01:23:45\n",
            "ARP Request: Not found\n",
            "RARP Request: 192.168.1.1\n",
            "RARP Request: Not found\n"
          ]
        }
      ],
      "source": [
        "# 1.SIMULATING ARP /RARP PROTOCOLS\n",
        "arp_table = {\"192.168.1.1\": \"00:14:22:01:23:45\", \"192.168.1.2\": \"00:14:22:01:23:46\"}\n",
        "rarp_table = {\"00:14:22:01:23:45\": \"192.168.1.1\", \"00:14:22:01:23:46\": \"192.168.1.2\"}\n",
        "\n",
        "def arp_request(ip): print(f\"ARP Request: {arp_table.get(ip, 'Not found')}\")\n",
        "def rarp_request(mac): print(f\"RARP Request: {rarp_table.get(mac, 'Not found')}\")\n",
        "\n",
        "arp_request(\"192.168.1.1\")  # Found IP\n",
        "arp_request(\"192.168.1.3\")  # Not Found IP\n",
        "rarp_request(\"00:14:22:01:23:45\")  # Found MAC\n",
        "rarp_request(\"00:00:00:00:00:00\")  # Not Found MAC\n"
      ]
    },
    {
      "cell_type": "code",
      "source": [
        "# 2.SIMPLE HTTP WEB CLIENT USING TCP SOCKETS\n",
        "import socket\n",
        "\n",
        "host = \"example.com\"\n",
        "with socket.create_connection((host, 80)) as s:\n",
        "    s.sendall(f\"GET / HTTP/1.1\\r\\nHost: {host}\\r\\nConnection: close\\r\\n\\r\\n\".encode())\n",
        "    print(s.recv(10000).decode(errors=\"replace\"))\n",
        "\n"
      ],
      "metadata": {
        "colab": {
          "base_uri": "https://localhost:8080/"
        },
        "id": "2pEKWET9-c1P",
        "outputId": "4f37523a-c04a-4c28-b0e4-59b369ad8198"
      },
      "execution_count": 2,
      "outputs": [
        {
          "output_type": "stream",
          "name": "stdout",
          "text": [
            "HTTP/1.1 200 OK\r\n",
            "Content-Type: text/html\r\n",
            "ETag: \"84238dfc8092e5d9c0dac8ef93371a07:1736799080.121134\"\r\n",
            "Last-Modified: Mon, 13 Jan 2025 20:11:20 GMT\r\n",
            "Cache-Control: max-age=1538\r\n",
            "Date: Sat, 26 Apr 2025 07:19:41 GMT\r\n",
            "Content-Length: 1256\r\n",
            "Connection: close\r\n",
            "X-N: S\r\n",
            "\r\n",
            "<!doctype html>\n",
            "<html>\n",
            "<head>\n",
            "    <title>Example Domain</title>\n",
            "\n",
            "    <meta charset=\"utf-8\" />\n",
            "    <meta http-equiv=\"Content-type\" content=\"text/html; charset=utf-8\" />\n",
            "    <meta name=\"viewport\" content=\"width=device-width, initial-scale=1\" />\n",
            "    <style type=\"text/css\">\n",
            "    body {\n",
            "        background-color: #f0f0f2;\n",
            "        margin: 0;\n",
            "        padding: 0;\n",
            "        font-family: -apple-system, system-ui, BlinkMacSystemFont, \"Segoe UI\", \"Open Sans\", \"Helvetica Neue\", Helvetica, Arial, sans-serif;\n",
            "        \n",
            "    }\n",
            "    div {\n",
            "        width: 600px;\n",
            "        margin: 5em auto;\n",
            "        padding: 2em;\n",
            "        background-color: #fdfdff;\n",
            "        border-radius: 0.5em;\n",
            "        box-shadow: 2px 3px 7px 2px rgba(0,0,0,0.02);\n",
            "    }\n",
            "    a:link, a:visited {\n",
            "        color: #38488f;\n",
            "        text-decoration: none;\n",
            "    }\n",
            "    @media (max-width: 700px) {\n",
            "        div {\n",
            "            margin: 0 auto;\n",
            "            width: auto;\n",
            "        }\n",
            "    }\n",
            "    </style>    \n",
            "</head>\n",
            "\n",
            "<body>\n",
            "<div>\n",
            "    <h1>Example Domain</h1>\n",
            "    <p>This domain is for use in illustrative examples in documents. You may use this\n",
            "    domain in literature without prior coordination or asking for permission.</p>\n",
            "    <p><a href=\"https://www.iana.org/domains/example\">More information...</a></p>\n",
            "</div>\n",
            "</body>\n",
            "</html>\n",
            "\n"
          ]
        }
      ]
    },
    {
      "cell_type": "code",
      "source": [
        "# 3. HOST AND IP ADDRESS\n",
        "import socket\n",
        "def get_host_info():\n",
        "    try:\n",
        "\n",
        "        host_name = socket.gethostname()# Get the host name of the machine\n",
        "        ip_address = socket.gethostbyname(host_name)# Get the IP address of the machine\n",
        "\n",
        "        print(f\"Host Name: {host_name}\")\n",
        "        print(f\"IP Address: {ip_address}\")\n",
        "    except Exception as e:\n",
        "        print(f\"An error occurred: {e}\")\n",
        "\n",
        "\n",
        "if __name__ == \"__main__\":\n",
        "    get_host_info()\n"
      ],
      "metadata": {
        "colab": {
          "base_uri": "https://localhost:8080/"
        },
        "id": "AkxgobuP-mfY",
        "outputId": "deae3d4b-59e7-4cb1-e3af-04fdcc0d081b"
      },
      "execution_count": 3,
      "outputs": [
        {
          "output_type": "stream",
          "name": "stdout",
          "text": [
            "Host Name: 20c7588cdc3e\n",
            "IP Address: 172.28.0.12\n"
          ]
        }
      ]
    },
    {
      "cell_type": "code",
      "source": [
        "# 4. SIMULATING ROUTING ALGORITHMS AND ERROR CORRECTION CODES\n",
        "import socket\n",
        "\n",
        "# Distance Vector Routing\n",
        "def dvr(nodes, connections):\n",
        "    dist = {node: {n: float('inf') for n in nodes} for node in nodes}\n",
        "    for (n1, n2, d) in connections:\n",
        "        dist[n1][n2] = dist[n2][n1] = d\n",
        "    for node in nodes:\n",
        "        for n1 in nodes:\n",
        "            for n2 in nodes:\n",
        "                dist[n1][n2] = min(dist[n1][n2], dist[n1][node] + dist[node][n2])\n",
        "    print(f\"Distance Vector Routing:{dist}\\n\")\n",
        "\n",
        "# DNS Info\n",
        "def get_dns_info():\n",
        "    print(f\"DNS Info: Host={socket.gethostname()}\\n, IP={socket.gethostbyname(socket.gethostname())}\\n\")\n",
        "\n",
        "# CRC-16\n",
        "def crc16(data):\n",
        "    crc = 0xFFFF\n",
        "    for byte in data:\n",
        "        crc ^= byte << 8\n",
        "        for _ in range(8):\n",
        "            crc = (crc << 1) ^ 0x11021 if crc & 0x8000 else crc << 1\n",
        "            crc &= 0xFFFF\n",
        "    print(f\"CRC-16: {crc:04X}\")\n",
        "\n",
        "# Run tests\n",
        "dvr(['A', 'B', 'C'], [('A', 'B', 1), ('B', 'C', 2)])\n",
        "get_dns_info()\n",
        "crc16(b'Hello, world!')\n"
      ],
      "metadata": {
        "colab": {
          "base_uri": "https://localhost:8080/"
        },
        "id": "aS0orMO2-xRt",
        "outputId": "56fd7ccc-c8c9-49f5-82a8-e3829251e758"
      },
      "execution_count": 4,
      "outputs": [
        {
          "output_type": "stream",
          "name": "stdout",
          "text": [
            "Distance Vector Routing:{'A': {'A': 2, 'B': 1, 'C': 3}, 'B': {'A': 1, 'B': 2, 'C': 2}, 'C': {'A': 3, 'B': 2, 'C': 4}}\n",
            "\n",
            "DNS Info: Host=20c7588cdc3e\n",
            ", IP=172.28.0.12\n",
            "\n",
            "CRC-16: 52D2\n"
          ]
        }
      ]
    },
    {
      "cell_type": "code",
      "source": [
        "# 5. TCP/UDP PERFORMANCE USING SIMULATION TOOL\n",
        "import socket, time, threading\n",
        "\n",
        "def run_test(protocol, port=8080):\n",
        "    def server():\n",
        "        with socket.socket(socket.AF_INET, protocol) as s:\n",
        "            s.bind(('localhost', port))\n",
        "            if protocol == socket.SOCK_STREAM:\n",
        "                s.listen(1)\n",
        "                conn, _ = s.accept()\n",
        "                with conn:\n",
        "                    conn.recv(1024)\n",
        "                    conn.send(b'Hello')\n",
        "            else:\n",
        "                data, addr = s.recvfrom(1024)\n",
        "                s.sendto(b'Hello', addr)\n",
        "\n",
        "    def client():\n",
        "        with socket.socket(socket.AF_INET, protocol) as s:\n",
        "            start = time.time()\n",
        "            if protocol == socket.SOCK_STREAM:\n",
        "                s.connect(('localhost', port))\n",
        "                s.send(b'Hello')\n",
        "                s.recv(1024)\n",
        "            else:\n",
        "                s.sendto(b'Hello', ('localhost', port))\n",
        "                s.recvfrom(1024)\n",
        "            print(f\"{'TCP' if protocol == socket.SOCK_STREAM else 'UDP'} Time: {time.time() - start:.5f}s\")\n",
        "\n",
        "    threading.Thread(target=server).start()\n",
        "    time.sleep(0.5)\n",
        "    client()\n",
        "\n",
        "# Run both tests\n",
        "for proto in [socket.SOCK_STREAM, socket.SOCK_DGRAM]:\n",
        "    run_test(proto)"
      ],
      "metadata": {
        "colab": {
          "base_uri": "https://localhost:8080/"
        },
        "id": "LVCmGT1R-3EG",
        "outputId": "9795c5a9-cf7f-4aee-94f4-242e2dc06260"
      },
      "execution_count": 5,
      "outputs": [
        {
          "output_type": "stream",
          "name": "stderr",
          "text": [
            "Exception in thread Thread-8 (server):\n",
            "Traceback (most recent call last):\n",
            "  File \"/usr/lib/python3.11/threading.py\", line 1045, in _bootstrap_inner\n",
            "    self.run()\n",
            "  File \"/usr/lib/python3.11/threading.py\", line 982, in run\n",
            "    self._target(*self._args, **self._kwargs)\n",
            "  File \"<ipython-input-5-b8a4708931bc>\", line 7, in server\n",
            "OSError: [Errno 98] Address already in use\n"
          ]
        },
        {
          "output_type": "stream",
          "name": "stdout",
          "text": [
            "TCP Time: 0.00106s\n",
            "UDP Time: 0.00044s\n"
          ]
        }
      ]
    },
    {
      "cell_type": "code",
      "source": [
        "# 6. NETWORK SIMULATION AND CONGESTION CONTROL\n",
        "import random\n",
        "\n",
        "cwnd, ssthresh = 1, 64\n",
        "for _ in range(20):\n",
        "    print(f\"Sending with cwnd={cwnd}\")\n",
        "    if random.random() < 0.1:  # Simulate packet loss\n",
        "        print(\"Packet loss, cwnd=1, ssthresh=\", max(cwnd//2, 2))\n",
        "        cwnd, ssthresh = 1, max(cwnd//2, 2)\n",
        "    else:\n",
        "        cwnd = cwnd * 2 if cwnd < ssthresh else cwnd + 1\n",
        "        print(f\"Data sent successfully, cwnd={min(cwnd, 100)}\")\n"
      ],
      "metadata": {
        "colab": {
          "base_uri": "https://localhost:8080/"
        },
        "id": "oNPOZnHW-6um",
        "outputId": "0bb8e5c7-3c86-40b9-ba4a-582cf80c0400"
      },
      "execution_count": 6,
      "outputs": [
        {
          "output_type": "stream",
          "name": "stdout",
          "text": [
            "Sending with cwnd=1\n",
            "Data sent successfully, cwnd=2\n",
            "Sending with cwnd=2\n",
            "Data sent successfully, cwnd=4\n",
            "Sending with cwnd=4\n",
            "Data sent successfully, cwnd=8\n",
            "Sending with cwnd=8\n",
            "Data sent successfully, cwnd=16\n",
            "Sending with cwnd=16\n",
            "Data sent successfully, cwnd=32\n",
            "Sending with cwnd=32\n",
            "Data sent successfully, cwnd=64\n",
            "Sending with cwnd=64\n",
            "Data sent successfully, cwnd=65\n",
            "Sending with cwnd=65\n",
            "Data sent successfully, cwnd=66\n",
            "Sending with cwnd=66\n",
            "Data sent successfully, cwnd=67\n",
            "Sending with cwnd=67\n",
            "Data sent successfully, cwnd=68\n",
            "Sending with cwnd=68\n",
            "Data sent successfully, cwnd=69\n",
            "Sending with cwnd=69\n",
            "Packet loss, cwnd=1, ssthresh= 34\n",
            "Sending with cwnd=1\n",
            "Data sent successfully, cwnd=2\n",
            "Sending with cwnd=2\n",
            "Data sent successfully, cwnd=4\n",
            "Sending with cwnd=4\n",
            "Data sent successfully, cwnd=8\n",
            "Sending with cwnd=8\n",
            "Data sent successfully, cwnd=16\n",
            "Sending with cwnd=16\n",
            "Data sent successfully, cwnd=32\n",
            "Sending with cwnd=32\n",
            "Data sent successfully, cwnd=64\n",
            "Sending with cwnd=64\n",
            "Data sent successfully, cwnd=65\n",
            "Sending with cwnd=65\n",
            "Data sent successfully, cwnd=66\n"
          ]
        }
      ]
    },
    {
      "cell_type": "code",
      "source": [
        "# 7. Simulate sending an email (console-based, no SMTP)\n",
        "\n",
        "sender = \"a@x.com\"\n",
        "receiver = \"b@y.com\"\n",
        "subject = \"CN Practical\"\n",
        "body = \"Dear Student,\\n\\nThis is a test email for your Computer Networks practical.\\n\\nRegards,\\nProfessor\"\n",
        "\n",
        "print(\"----- EMAIL MESSAGE -----\")\n",
        "print(f\"From   : {sender}\")\n",
        "print(f\"To     : {receiver}\")\n",
        "print(f\"Subject: {subject}\")\n",
        "print(\"\\n\" + body)\n",
        "print(\"-------------------------\")\n"
      ],
      "metadata": {
        "colab": {
          "base_uri": "https://localhost:8080/"
        },
        "id": "lsXBsPlk--cB",
        "outputId": "bfb2b4ca-8a58-4dca-985d-c85b296c7724"
      },
      "execution_count": 7,
      "outputs": [
        {
          "output_type": "stream",
          "name": "stdout",
          "text": [
            "----- EMAIL MESSAGE -----\n",
            "From   : a@x.com\n",
            "To     : b@y.com\n",
            "Subject: CN Practical\n",
            "\n",
            "Dear Student,\n",
            "\n",
            "This is a test email for your Computer Networks practical.\n",
            "\n",
            "Regards,\n",
            "Professor\n",
            "-------------------------\n"
          ]
        }
      ]
    },
    {
      "cell_type": "code",
      "source": [
        "# 8. SIMPLE HTTP\n",
        "import requests\n",
        "url = \"http://example.com\"\n",
        "res = requests.get(url)\n",
        "print(\"Status:\", res.status_code)\n",
        "print(res.text[:100])"
      ],
      "metadata": {
        "colab": {
          "base_uri": "https://localhost:8080/"
        },
        "id": "kveU2KVe_DZe",
        "outputId": "6e3ef7ba-11d4-4793-f372-7194ffab874c"
      },
      "execution_count": 8,
      "outputs": [
        {
          "output_type": "stream",
          "name": "stdout",
          "text": [
            "Status: 200\n",
            "<!doctype html>\n",
            "<html>\n",
            "<head>\n",
            "    <title>Example Domain</title>\n",
            "\n",
            "    <meta charset=\"utf-8\" />\n",
            "    <m\n"
          ]
        }
      ]
    },
    {
      "cell_type": "code",
      "source": [
        "# 9. IPV4 CALCULATOR\n",
        "ip = \"192.168.1.1\"\n",
        "binary = '.'.join(format(int(part), '08b') for part in ip.split('.'))\n",
        "print(\"Binary IP:\", binary)"
      ],
      "metadata": {
        "colab": {
          "base_uri": "https://localhost:8080/"
        },
        "id": "5LQILeJT_GhE",
        "outputId": "d8c2088c-367b-4370-ae68-5cccc8ffc8dd"
      },
      "execution_count": 9,
      "outputs": [
        {
          "output_type": "stream",
          "name": "stdout",
          "text": [
            "Binary IP: 11000000.10101000.00000001.00000001\n"
          ]
        }
      ]
    },
    {
      "cell_type": "code",
      "source": [
        "# 10. OSI MODEL SIMULATION\n",
        "layers = [\"App\", \"Presentation\", \"Session\", \"Transport\", \"Network\", \"Data Link\", \"Physical\"]\n",
        "data = \"Hello\"\n",
        "for layer in layers:\n",
        "    data = f\"{layer}({data})\"\n",
        "print(\"Sending:\", data)\n",
        "for layer in reversed(layers):\n",
        "    data = data.replace(f\"{layer}(\", \"\").rstrip(\")\")\n",
        "print(\"Received:\", data)\n"
      ],
      "metadata": {
        "colab": {
          "base_uri": "https://localhost:8080/"
        },
        "id": "IGgXeSnU_JZE",
        "outputId": "0ed3255a-a755-4d38-a69e-c0cf7bd725be"
      },
      "execution_count": 10,
      "outputs": [
        {
          "output_type": "stream",
          "name": "stdout",
          "text": [
            "Sending: Physical(Data Link(Network(Transport(Session(Presentation(App(Hello)))))))\n",
            "Received: Hello\n"
          ]
        }
      ]
    },
    {
      "cell_type": "code",
      "source": [
        "# 11. TOKEN BUCKET ALGORITHM\n",
        "tokens = 0\n",
        "for t in range(5):\n",
        "    tokens = min(tokens + 5, 10)\n",
        "    req = random.randint(1, 8)\n",
        "    if tokens >= req:\n",
        "        tokens -= req\n",
        "        print(f\"Sent {req}, Remaining {tokens}\")\n",
        "    else: print(\"Not enough tokens\")"
      ],
      "metadata": {
        "colab": {
          "base_uri": "https://localhost:8080/"
        },
        "id": "P_GTLEdU_NPs",
        "outputId": "8d33610f-9bae-4b77-9b7f-f1cefff0b347"
      },
      "execution_count": 11,
      "outputs": [
        {
          "output_type": "stream",
          "name": "stdout",
          "text": [
            "Not enough tokens\n",
            "Sent 2, Remaining 8\n",
            "Sent 1, Remaining 9\n",
            "Sent 1, Remaining 9\n",
            "Sent 4, Remaining 6\n"
          ]
        }
      ]
    },
    {
      "cell_type": "code",
      "source": [
        "# 12. LEAKY BUCKET ALGORITHM\n",
        "bucket_size, rate = 10, 3\n",
        "packets = [4, 5, 2, 8, 6]\n",
        "for p in packets:\n",
        "    if p <= bucket_size:\n",
        "        print(f\"Sent {min(p, rate)} units\")\n",
        "        bucket_size -= p\n",
        "    else: print(\"Packet Dropped\")"
      ],
      "metadata": {
        "colab": {
          "base_uri": "https://localhost:8080/"
        },
        "id": "G2X1gBOZ_P_J",
        "outputId": "5a5f73a7-5a32-42bd-852e-da3b7a4810e6"
      },
      "execution_count": 12,
      "outputs": [
        {
          "output_type": "stream",
          "name": "stdout",
          "text": [
            "Sent 3 units\n",
            "Sent 3 units\n",
            "Packet Dropped\n",
            "Packet Dropped\n",
            "Packet Dropped\n"
          ]
        }
      ]
    },
    {
      "cell_type": "code",
      "source": [
        "# 13. VLAN Concept demo\n",
        "devices = {\"PC1\": 10, \"PC2\": 10, \"PC3\": 20}\n",
        "def can_communicate(d1, d2):\n",
        "    return devices[d1] == devices[d2]\n",
        "print(\"PC1 <-> PC2:\", can_communicate(\"PC1\", \"PC2\"))\n",
        "print(\"PC1 <-> PC3:\", can_communicate(\"PC1\", \"PC3\"))"
      ],
      "metadata": {
        "colab": {
          "base_uri": "https://localhost:8080/"
        },
        "id": "pGh89G7w_TP4",
        "outputId": "9533d89b-268e-4c39-f095-469ce393dac2"
      },
      "execution_count": 13,
      "outputs": [
        {
          "output_type": "stream",
          "name": "stdout",
          "text": [
            "PC1 <-> PC2: True\n",
            "PC1 <-> PC3: False\n"
          ]
        }
      ]
    },
    {
      "cell_type": "code",
      "source": [
        "# 14. WIFI SCANNER\n",
        "import subprocess\n",
        "\n",
        "\n",
        "def scan_wifi():\n",
        "    try:\n",
        "        # Run the netsh command to scan for Wi-Fi networks\n",
        "        result = subprocess.check_output(\"netsh wlan show networks\", shell=True)\n",
        "\n",
        "        # Decode the result and print it\n",
        "        print(\"Available Wi-Fi Networks:\")\n",
        "        print(result.decode())\n",
        "\n",
        "    except Exception as e:\n",
        "        print(f\"Error: {e}\")\n",
        "\n",
        "\n",
        "# Run the Wi-Fi scanner\n",
        "scan_wifi()\n"
      ],
      "metadata": {
        "colab": {
          "base_uri": "https://localhost:8080/"
        },
        "id": "MnBiYgZu_XNI",
        "outputId": "c351a664-7cc8-4889-a197-a39a92e9025a"
      },
      "execution_count": 14,
      "outputs": [
        {
          "output_type": "stream",
          "name": "stdout",
          "text": [
            "Error: Command 'netsh wlan show networks' returned non-zero exit status 127.\n"
          ]
        }
      ]
    },
    {
      "cell_type": "code",
      "source": [
        "# 15. LAN SCANNER USING socket and ipadress\n",
        "import socket\n",
        "import ipaddress\n",
        "\n",
        "def scan_network(network):\n",
        "    for ip in ipaddress.IPv4Network(network):\n",
        "        try:\n",
        "            sock = socket.socket()\n",
        "            sock.settimeout(0.5)\n",
        "            sock.connect((str(ip), 80))\n",
        "            print(f\"Host {ip} is up (HTTP port open)\")\n",
        "        except:\n",
        "            pass\n",
        "        finally:\n",
        "            sock.close()\n",
        "\n",
        "# Example use\n",
        "scan_network('192.168.1.0/28')  # Change to your subnet"
      ],
      "metadata": {
        "id": "QQNDTpsZ_Z-o"
      },
      "execution_count": 15,
      "outputs": []
    },
    {
      "cell_type": "code",
      "source": [
        "# 16. ARP SIMULATION\n",
        "arp_table = {\n",
        "    \"192.168.1.1\": \"00:0a:95:9d:68:16\",\n",
        "    \"192.168.1.2\": \"00:0a:95:9d:68:17\"\n",
        "}\n",
        "\n",
        "def arp(ip):\n",
        "    return arp_table.get(ip, \"MAC not found\")\n",
        "\n",
        "print(\"MAC Address for 192.168.1.1:\", arp(\"192.168.1.1\"))"
      ],
      "metadata": {
        "colab": {
          "base_uri": "https://localhost:8080/"
        },
        "id": "s2vnlcDt_dTv",
        "outputId": "2659eb5c-14d0-4b36-c003-bb9653fc107c"
      },
      "execution_count": 16,
      "outputs": [
        {
          "output_type": "stream",
          "name": "stdout",
          "text": [
            "MAC Address for 192.168.1.1: 00:0a:95:9d:68:16\n"
          ]
        }
      ]
    },
    {
      "cell_type": "code",
      "source": [
        "# 17. DHCP IP ASSIGNMENT\n",
        "pool = [\"192.168.0.\"+str(i) for i in range(2, 5)]\n",
        "assigned = {}\n",
        "for client in [\"A\", \"B\", \"C\"]:\n",
        "    ip = pool.pop(0)\n",
        "    assigned[client] = ip\n",
        "    print(f\"{client} -> {ip}\")\n"
      ],
      "metadata": {
        "colab": {
          "base_uri": "https://localhost:8080/"
        },
        "id": "OJ-4k7lQ_ipu",
        "outputId": "00535ab3-b52a-4f20-cb14-cb62f4691e4a"
      },
      "execution_count": 17,
      "outputs": [
        {
          "output_type": "stream",
          "name": "stdout",
          "text": [
            "A -> 192.168.0.2\n",
            "B -> 192.168.0.3\n",
            "C -> 192.168.0.4\n"
          ]
        }
      ]
    },
    {
      "cell_type": "code",
      "source": [
        "# 18. SDN flow rule example\n",
        "class Switch:\n",
        "    def __init__(self): self.flow_table = {}\n",
        "    def install_rule(self, ip, action): self.flow_table[ip] = action\n",
        "    def forward(self, ip): print(self.flow_table.get(ip, \"Drop\"))\n",
        "s = Switch()\n",
        "s.install_rule(\"10.0.0.1\", \"Forward to Port 1\")\n",
        "s.forward(\"10.0.0.1\")"
      ],
      "metadata": {
        "colab": {
          "base_uri": "https://localhost:8080/"
        },
        "id": "MFFqxIQJ_l74",
        "outputId": "dcc3609d-e3dd-4140-a27f-6c99221ef4c6"
      },
      "execution_count": 18,
      "outputs": [
        {
          "output_type": "stream",
          "name": "stdout",
          "text": [
            "Forward to Port 1\n"
          ]
        }
      ]
    },
    {
      "cell_type": "code",
      "source": [
        "# 19. IPV6 SIMULATOR\n",
        "import ipaddress, random\n",
        "\n",
        "addr = ipaddress.IPv6Address(random.getrandbits(128))\n",
        "print(\"Generated IPv6:\", addr)\n",
        "\n",
        "ip_str = input(\"Enter IPv6 to validate: \")\n",
        "\n",
        "try:\n",
        "    ip = ipaddress.IPv6Address(ip_str)\n",
        "    print(\"Valid IPv6!\")\n",
        "    print(\"Compressed:\", ip.compressed)\n",
        "    print(\"Expanded:\", ip.exploded)\n",
        "except ValueError:\n",
        "    print(\"Invalid IPv6 address.\")\n"
      ],
      "metadata": {
        "colab": {
          "base_uri": "https://localhost:8080/"
        },
        "id": "YVhWyEmC_qWs",
        "outputId": "097bda11-cf09-49c0-b578-3fcab23ce5b8"
      },
      "execution_count": 19,
      "outputs": [
        {
          "output_type": "stream",
          "name": "stdout",
          "text": [
            "Generated IPv6: d1b1:95b8:c57e:991d:8e25:fb0f:c30c:7d9\n",
            "Enter IPv6 to validate: IPv6: d1b1:95b8:c57e:991d:8e25:fb0f:c30c:7d9\n",
            "Invalid IPv6 address.\n"
          ]
        }
      ]
    },
    {
      "cell_type": "code",
      "source": [
        "#20. CRC ENCODING\n",
        "def xor(a, b):\n",
        "    return ''.join('0' if i == j else '1' for i, j in zip(a, b))\n",
        "\n",
        "def crc(data, key):\n",
        "    d = data + '0' * (len(key) - 1)\n",
        "    for _ in range(len(data)):\n",
        "        if d[0] == '1':\n",
        "            d = xor(d[:len(key)], key) + d[len(key):]\n",
        "        else:\n",
        "            d = xor(d[:len(key)], '0'*len(key)) + d[len(key):]\n",
        "        d = d[1:]\n",
        "    return data + d\n",
        "\n",
        "# Example\n",
        "print(\"CRC Encoded:\", crc(\"100100\", \"1011\"))"
      ],
      "metadata": {
        "colab": {
          "base_uri": "https://localhost:8080/"
        },
        "id": "9zfAL435_wG5",
        "outputId": "0b22b9e9-5dd8-47f4-e1f6-6299e46fa484"
      },
      "execution_count": 20,
      "outputs": [
        {
          "output_type": "stream",
          "name": "stdout",
          "text": [
            "CRC Encoded: 100100101\n"
          ]
        }
      ]
    },
    {
      "cell_type": "code",
      "source": [],
      "metadata": {
        "id": "l51fF7wa_0qq"
      },
      "execution_count": null,
      "outputs": []
    }
  ]
}